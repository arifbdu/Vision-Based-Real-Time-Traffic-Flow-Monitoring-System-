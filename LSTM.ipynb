{
 "cells": [
  {
   "cell_type": "code",
   "execution_count": 1,
   "id": "d9941d57",
   "metadata": {},
   "outputs": [],
   "source": [
    "import pandas as pd\n",
    "import os \n",
    "import matplotlib.pyplot as plt\n",
    "import numpy as np\n",
    "from os.path import join\n",
    "from pandas import read_csv\n",
    "from shutil import rmtree\n",
    "from tempfile import mkdtemp\n",
    "import tensorflow as tf\n",
    "from tensorflow.python.keras.models import Sequential\n",
    "\n",
    "from tensorflow.python.keras.layers import Conv2D, Dense,LSTM\n",
    "from matplotlib import pyplot\n",
    "\n",
    "\n",
    "cwd = os.chdir(r\"C:/Users/ARIF/Desktop/LSTM\") \n",
    "\n",
    "DATA = pd.read_csv('td.csv')        \n",
    "\n",
    "CASESd = np.array(DATA.loc[:, \"Avg Speed\"])"
   ]
  },
  {
   "cell_type": "code",
   "execution_count": 2,
   "id": "253e2d62",
   "metadata": {},
   "outputs": [],
   "source": [
    "\n",
    "def extract_sample(series):\n",
    "    X = []\n",
    "    Y = []\n",
    "    for i in range(len(series)-1):\n",
    "        X.append(series[i:i+1])\n",
    "        Y.append(series[i+1])\n",
    "    return X, Y"
   ]
  },
  {
   "cell_type": "code",
   "execution_count": 3,
   "id": "3ae2459d",
   "metadata": {},
   "outputs": [],
   "source": [
    "X_CASESd, Y_CASESd = extract_sample(CASESd)"
   ]
  },
  {
   "cell_type": "code",
   "execution_count": 4,
   "id": "ca8b5394",
   "metadata": {},
   "outputs": [],
   "source": [
    "def train_test(neural_network, X, Y, epochs=5000, training_percent_size = 0.8):\n",
    "   \n",
    "    N = len(X)\n",
    "   \n",
    "    n_training = int(N*training_percent_size)\n",
    "    X_TRAINING, Y_TRAINING = np.array(X[:n_training]), np.array(Y[:n_training])\n",
    "    X_TESTING, Y_TESTING = np.array(X[n_training:]), np.array(Y[n_training:])\n",
    "   \n",
    "    X_TRAINING = X_TRAINING.reshape((X_TRAINING.shape[0], X_TRAINING.shape[1], 1))\n",
    "    X_TESTING = X_TESTING.reshape((X_TESTING.shape[0], X_TESTING.shape[1], 1))\n",
    "    \n",
    "    for i in range(epochs):\n",
    "        neural_network.fit(X_TRAINING, Y_TRAINING, epochs = 1, verbose = 0, shuffle = False)\n",
    "        neural_network.reset_states()\n",
    "    Y_PREDICTED = []   \n",
    "    for x in X_TESTING:\n",
    "        x = x.reshape((1, 1, 1))\n",
    "        y = neural_network.predict(x, verbose = 0)\n",
    "        Y_PREDICTED.append(y[0][0])\n",
    "\n",
    "    plt.ylabel(\"Avg Speed\", fontsize=\"large\")\n",
    "    plt.xlabel(\"Days\", fontsize=\"large\")\n",
    "    plt.plot(Y, 'r', label='Real')\n",
    "    plt.plot(range(n_training, N), Y_PREDICTED, 'b', label='Predicted')\n",
    "    plt.legend(loc='upper center', bbox_to_anchor=(0.5, 1.05),\n",
    "          ncol=3, fancybox=True, shadow=True)\n",
    "    plt.show()\n",
    "   \n",
    "    plt.style.use('classic')\n",
    "    \n",
    "  \n",
    "    loss= np.linalg.norm(Y_TESTING - np.array(Y_PREDICTED))**2/len(Y_TESTING)\n",
    "      \n",
    "    print(\"loss value =\",loss)\n",
    "    print(\"predicted value =\",Y_PREDICTED)\n",
    "   \n",
    "    return np.concatenate((Y_TRAINING, Y_PREDICTED))\n"
   ]
  },
  {
   "cell_type": "code",
   "execution_count": 5,
   "id": "3c6ea84d",
   "metadata": {},
   "outputs": [],
   "source": [
    "nn = Sequential()\n",
    "nn.add(LSTM(10, input_shape = (1, 1), return_sequences=True))\n",
    "nn.add(LSTM(10))\n",
    "nn.add(Dense(1)) \n",
    "nn.compile(loss=\"mean_squared_error\", optimizer=\"adam\")"
   ]
  },
  {
   "cell_type": "code",
   "execution_count": 6,
   "id": "12414b60",
   "metadata": {},
   "outputs": [
    {
     "data": {
      "image/png": "[encoded data removed]",
      "text/plain": [
       "<Figure size 640x480 with 1 Axes>"
      ]
     },
     "metadata": {},
     "output_type": "display_data"
    },
    {
     "name": "stdout",
     "output_type": "stream",
     "text": [
      "loss value = nan\n",
      "predicted value = [nan, nan, nan, nan, nan, nan, nan, nan, nan, nan, nan, nan, nan, nan, nan, nan, nan, nan, nan, nan, nan, nan, nan, nan, nan, nan, nan, nan, nan, nan, nan, nan, nan, nan, nan, nan, nan, nan, nan, nan, nan, nan, nan, nan, nan, nan, nan, nan, nan, nan, nan, nan, nan, nan, nan, nan, nan, nan, nan, nan, nan, nan, nan, nan, nan, nan, nan, nan, nan, nan, nan, nan, nan, nan, nan, nan, nan, nan, nan, nan, nan, nan, nan, nan, nan, nan, nan, nan, nan, nan, nan, nan, nan, nan, nan, nan, nan, nan, nan, nan, nan, nan, nan, nan, nan, nan, nan, nan, nan, nan, nan, nan, nan, nan, nan, nan, nan, nan, nan, nan, nan, nan, nan, nan, nan, nan, nan, nan, nan, nan, nan, nan, nan, nan, nan, nan, nan, nan, nan, nan, nan, nan, nan, nan, nan, nan, nan, nan, nan, nan, nan, nan, nan, nan, nan, nan, nan, nan, nan, nan, nan, nan, nan, nan, nan, nan, nan, nan, nan, nan, nan, nan, nan, nan, nan, nan, nan, nan, nan, nan, nan, nan, nan, nan, nan, nan, nan, nan, nan, nan, nan, nan]\n"
     ]
    }
   ],
   "source": [
    "prediction1 = train_test(nn, X_CASESd, Y_CASESd)"
   ]
  },
  {
   "cell_type": "code",
   "execution_count": null,
   "id": "4b1c8dfa",
   "metadata": {},
   "outputs": [],
   "source": []
  }
 ],
 "metadata": {
  "kernelspec": {
   "display_name": "Python 3 (ipykernel)",
   "language": "python",
   "name": "python3"
  },
  "language_info": {
   "codemirror_mode": {
    "name": "ipython",
    "version": 3
   },
   "file_extension": ".py",
   "mimetype": "text/x-python",
   "name": "python",
   "nbconvert_exporter": "python",
   "pygments_lexer": "ipython3",
   "version": "3.10.11"
  }
 },
 "nbformat": 4,
 "nbformat_minor": 5
}
